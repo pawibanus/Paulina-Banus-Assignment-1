{
  "nbformat": 4,
  "nbformat_minor": 0,
  "metadata": {
    "colab": {
      "provenance": [],
      "authorship_tag": "ABX9TyMB9i9/6QArm1CPTqvrxiHb",
      "include_colab_link": true
    },
    "kernelspec": {
      "name": "python3",
      "display_name": "Python 3"
    },
    "language_info": {
      "name": "python"
    }
  },
  "cells": [
    {
      "cell_type": "markdown",
      "metadata": {
        "id": "view-in-github",
        "colab_type": "text"
      },
      "source": [
        "<a href=\"https://colab.research.google.com/github/pawibanus/Paulina-Banus-Assignment-1/blob/main/BTE_320_spring_2024.ipynb\" target=\"_parent\"><img src=\"https://colab.research.google.com/assets/colab-badge.svg\" alt=\"Open In Colab\"/></a>"
      ]
    },
    {
      "cell_type": "markdown",
      "source": [
        "JAN 29, 2024 Conditional functions\n"
      ],
      "metadata": {
        "id": "8tvzpuMMzy9N"
      }
    },
    {
      "cell_type": "code",
      "execution_count": null,
      "metadata": {
        "colab": {
          "base_uri": "https://localhost:8080/"
        },
        "id": "5FVsAOMzuuV8",
        "outputId": "aa01f4b1-9291-4175-aa5a-ebd741c43534"
      },
      "outputs": [
        {
          "output_type": "stream",
          "name": "stdout",
          "text": [
            "Enter your deposit:200\n",
            "Deposit at the end of year will be: 206.0\n"
          ]
        }
      ],
      "source": [
        "deposit = float(input('Enter your deposit:'))\n",
        "if deposit > 10000:\n",
        "  ir = 3.5\n",
        "elif deposit <= 1000:\n",
        "  ir = 3.0\n",
        "else:\n",
        "  ir = 3.25\n",
        "total = (1+ ir/100) * deposit\n",
        "print(f'Deposit at the end of year will be: {round(total, 2)}')"
      ]
    },
    {
      "cell_type": "code",
      "source": [
        "CType = input(\"Are you a new (n) or existing (e) customer?:\")\n",
        "if CType == 'n':\n",
        "  deposit = (float(input('Enter your deposit:')))\n",
        "  ir = 0.03\n",
        "else:\n",
        "  deposit= float(input(\"Enter your deposit:\"))\n",
        "  if deposit >10000:\n",
        "    ir = 0.035\n",
        "  elif deposit >1000:\n",
        "    ir = 0.0325\n",
        "  else:\n",
        "    ir = 0.03\n",
        "total = round(((1 + ir) * deposit), 2)\n",
        "print(f'Your total deposit by the end of the year is : {total}')"
      ],
      "metadata": {
        "colab": {
          "base_uri": "https://localhost:8080/"
        },
        "id": "OTABFkx_y2Wd",
        "outputId": "5cf1fd34-3d0d-43e2-8d32-6614771a927a"
      },
      "execution_count": null,
      "outputs": [
        {
          "output_type": "stream",
          "name": "stdout",
          "text": [
            "Are you a new (n) or existing (e) customer?:e\n",
            "Enter your deposit:1554\n",
            "Your total deposit by the end of the year is : 1604.5\n"
          ]
        }
      ]
    },
    {
      "cell_type": "code",
      "source": [
        "customer_type = input('are you a new (n) or existing (e) customer?:')\n",
        "Deposit= float(input('Enter your deposit amount:'))\n",
        " if customer_type == \"e\":\n",
        "  if deposit >10000:\n",
        "    ir = 0.035\n",
        "  elif deposit > 1000:\n",
        "    ir = 0.0325\n",
        "  else:\n",
        "    ir = 0.03\n",
        "else:\n",
        "  ir = 0.03"
      ],
      "metadata": {
        "id": "PPIKQO6v3OrK"
      },
      "execution_count": null,
      "outputs": []
    },
    {
      "cell_type": "markdown",
      "source": [
        "Jan 31, 2024\n"
      ],
      "metadata": {
        "id": "jLAGCa4zEGiX"
      }
    },
    {
      "cell_type": "code",
      "source": [
        "x = int(input(\"Enter an x value:\"))\n",
        "if x%2== 0 and x%3 == 0:\n",
        "  print('x is divisable by 2 & three')\n",
        "  elif x%2 == 0 :\n",
        "    print('x is divisable by two not three ')\n",
        "  elif x%3 == 0:\n",
        "    print('x is divisable by three not 2')\n",
        "else:\n",
        "  print('x is not divisable by 2 or 3')"
      ],
      "metadata": {
        "colab": {
          "base_uri": "https://localhost:8080/",
          "height": 143
        },
        "id": "Mn3qlxmpEPRt",
        "outputId": "7d475eb8-e9c3-44f2-cf27-5e98b0342459"
      },
      "execution_count": null,
      "outputs": [
        {
          "output_type": "error",
          "ename": "SyntaxError",
          "evalue": "invalid syntax (<ipython-input-1-7e9c8eccd580>, line 4)",
          "traceback": [
            "\u001b[0;36m  File \u001b[0;32m\"<ipython-input-1-7e9c8eccd580>\"\u001b[0;36m, line \u001b[0;32m4\u001b[0m\n\u001b[0;31m    elif x%2 == 0 :\u001b[0m\n\u001b[0m    ^\u001b[0m\n\u001b[0;31mSyntaxError\u001b[0m\u001b[0;31m:\u001b[0m invalid syntax\n"
          ]
        }
      ]
    },
    {
      "cell_type": "code",
      "source": [
        "x=2\n",
        "y=4\n",
        "z=6\n",
        "if x< y and x<z:\n",
        "  print(\"x is the smallest number\")\n",
        "elif y<z:\n",
        "    print('y is the smallest number')\n",
        "else:\n",
        "    print(\"z is the smallest number\")"
      ],
      "metadata": {
        "colab": {
          "base_uri": "https://localhost:8080/"
        },
        "id": "y4HmacIxFS2F",
        "outputId": "32909d66-a196-473d-d317-8bab796d4658"
      },
      "execution_count": null,
      "outputs": [
        {
          "output_type": "stream",
          "name": "stdout",
          "text": [
            "x is the smallest number\n"
          ]
        }
      ]
    },
    {
      "cell_type": "code",
      "source": [
        "x=9\n",
        "y=23\n",
        "z=2\n",
        "\n",
        "\n",
        "answer = min(x, y,z)\n",
        "if x%2!=0:\n",
        "  answer = x\n",
        "if y%2 !=0 and y>answer:\n",
        "  answer = y\n",
        "if z%2 !=0 and z>answer:\n",
        "  answer = z\n",
        "if x%2 ==0 and y%2 ==0 and z%2 ==0:\n",
        "  print( f'The minimum even number is: {answer}')\n",
        "else:\n",
        "  print(f'The maximum off value is: {answer}')"
      ],
      "metadata": {
        "colab": {
          "base_uri": "https://localhost:8080/"
        },
        "id": "Is7pb_FSGzBn",
        "outputId": "64a90302-a8e2-489e-f04c-97f1bc8310a3"
      },
      "execution_count": null,
      "outputs": [
        {
          "output_type": "stream",
          "name": "stdout",
          "text": [
            "The maximum off value is: 23\n"
          ]
        }
      ]
    },
    {
      "cell_type": "markdown",
      "source": [
        "Feb 2, 2024"
      ],
      "metadata": {
        "id": "tGNRv2OQTQd1"
      }
    },
    {
      "cell_type": "code",
      "source": [
        "import random\n",
        "pc_choice = random.choice(['rock', 'paper', 'scissors'])\n",
        "choice = input('Enter your choice:')\n",
        "print(pc_choice)\n",
        "if choice == pc_choice:\n",
        "  print('Tie')\n",
        "elif (choice == 'scissors' and pc_choice == 'rock') or (choice == 'rock' and pc_choice == 'paper') or (choice == 'paper' and pc_choice == 'scissors'):\n",
        "  print(\"Your loose\")\n",
        "else:\n",
        "    print('you win')\n",
        "\n"
      ],
      "metadata": {
        "colab": {
          "base_uri": "https://localhost:8080/"
        },
        "id": "XYLJuktiTS14",
        "outputId": "97bd3fb3-4fcb-47ff-b066-a43330fb5573"
      },
      "execution_count": null,
      "outputs": [
        {
          "output_type": "stream",
          "name": "stdout",
          "text": [
            "Enter your choice:paper\n",
            "paper\n",
            "Tie\n"
          ]
        }
      ]
    },
    {
      "cell_type": "code",
      "source": [],
      "metadata": {
        "id": "imzIrQgkZ7fW"
      },
      "execution_count": null,
      "outputs": []
    },
    {
      "cell_type": "code",
      "source": [
        "current_year = int(input(\"enter the year:\"))\n",
        "x = 2024\n",
        "if (current_year - x)%4 == 0:\n",
        "  print(\"That year is a leap year\")\n",
        "else:\n",
        "  print('that year is not a leap year')"
      ],
      "metadata": {
        "colab": {
          "base_uri": "https://localhost:8080/"
        },
        "id": "IWoA9DGmYJy3",
        "outputId": "b56947f7-e0e5-4062-fd78-6158c29b6fe1"
      },
      "execution_count": null,
      "outputs": [
        {
          "output_type": "stream",
          "name": "stdout",
          "text": [
            "enter the year:2003\n",
            "that year is not a leap year\n"
          ]
        }
      ]
    },
    {
      "cell_type": "markdown",
      "source": [
        "Jan Feb 5"
      ],
      "metadata": {
        "id": "VsCyBDWYwFCJ"
      }
    },
    {
      "cell_type": "code",
      "source": [
        "!pip install ColabTurtlePlus\n"
      ],
      "metadata": {
        "colab": {
          "base_uri": "https://localhost:8080/"
        },
        "id": "S-VzXJiBwG6d",
        "outputId": "6ba3538f-f8b0-4681-9d49-d8aba43a423b"
      },
      "execution_count": null,
      "outputs": [
        {
          "output_type": "stream",
          "name": "stdout",
          "text": [
            "Collecting ColabTurtlePlus\n",
            "  Downloading ColabTurtlePlus-2.0.1-py3-none-any.whl (31 kB)\n",
            "Installing collected packages: ColabTurtlePlus\n",
            "Successfully installed ColabTurtlePlus-2.0.1\n"
          ]
        }
      ]
    },
    {
      "cell_type": "code",
      "source": [
        "from ColabTurtlePlus.Turtle import *\n",
        "clearscreen()\n",
        "color('black', 'green')\n",
        "begin_fill()\n",
        "jumpto(0,0)\n",
        "for var in range(4):\n",
        "  forward(100)\n",
        "  left(90)\n",
        "\n",
        "end_fill()"
      ],
      "metadata": {
        "colab": {
          "base_uri": "https://localhost:8080/",
          "height": 621
        },
        "id": "xu_Mc2Pvw3TD",
        "outputId": "151c31ca-8e5e-42fc-87f2-7133317b239e"
      },
      "execution_count": null,
      "outputs": [
        {
          "output_type": "display_data",
          "data": {
            "text/plain": [
              "<IPython.core.display.HTML object>"
            ],
            "text/html": [
              "\n",
              "      <svg width=\"800\" height=\"600\">  \n",
              "        <rect width=\"100%\" height=\"100%\" style=\"fill:white;stroke:;stroke-width:1\"/>\n",
              "        \n",
              "        \n",
              "        <path fill-rule=\"evenodd\" fill-opacity=\"1\" d=\"M 400.0 300.0  L 400.0 300.0  L 500.0 300.0  L 500.0 200.0  L 400.0 200.0  L 400.0 300.0 \" stroke-linecap=\"round\" style=\"stroke:black;stroke-width:1\" fill=\"green\" />\n",
              "        \n",
              "        \n",
              "        <g id=\"classic\" visibility=\"visible\" transform=\"rotate(-90,400.0,300.0) translate(400.0, 300.0)\">\n",
              "<polygon points=\"-5,-4.5 0,-2.5 5,-4.5 0,4.5\" transform=\"skewX(0) scale(1,1)\" style=\"stroke:black;fill:green;stroke-width:1\" />\n",
              "</g>\n",
              "      </svg>\n",
              "    "
            ]
          },
          "metadata": {}
        }
      ]
    },
    {
      "cell_type": "code",
      "source": [
        "for i in range(5,40,10):\n",
        "  print(i)\n",
        "for n in range(1,13):\n",
        "  print(n)\n",
        "for z in range(10,5,-1):\n",
        "  print(z)"
      ],
      "metadata": {
        "colab": {
          "base_uri": "https://localhost:8080/"
        },
        "id": "5W-okuLs1yhm",
        "outputId": "060ce255-67f5-4b5f-e666-265ca2f02968"
      },
      "execution_count": null,
      "outputs": [
        {
          "output_type": "stream",
          "name": "stdout",
          "text": [
            "5\n",
            "15\n",
            "25\n",
            "35\n",
            "1\n",
            "2\n",
            "3\n",
            "4\n",
            "5\n",
            "6\n",
            "7\n",
            "8\n",
            "9\n",
            "10\n",
            "11\n",
            "12\n",
            "10\n",
            "9\n",
            "8\n",
            "7\n",
            "6\n"
          ]
        }
      ]
    },
    {
      "cell_type": "code",
      "source": [
        "from ColabTurtlePlus.Turtle import*\n",
        "clearscreen()\n",
        "color('black','green')\n",
        "begin_fill()\n",
        "jumpto(0,0)\n",
        "for n in range(360):\n",
        "  forward(1)\n",
        "  left(1)\n",
        "end_fill()\n"
      ],
      "metadata": {
        "colab": {
          "base_uri": "https://localhost:8080/",
          "height": 621
        },
        "id": "pybgNrmD3YiL",
        "outputId": "435dcf65-1273-476f-b1f2-8e31bf3bd6ad"
      },
      "execution_count": null,
      "outputs": [
        {
          "output_type": "display_data",
          "data": {
            "text/plain": [
              "<IPython.core.display.HTML object>"
            ],
            "text/html": [
              "\n",
              "      <svg width=\"800\" height=\"600\">  \n",
              "        <rect width=\"100%\" height=\"100%\" style=\"fill:white;stroke:;stroke-width:1\"/>\n",
              "        \n",
              "        \n",
              "        <path fill-rule=\"evenodd\" fill-opacity=\"1\" d=\"M 400.0 300.0  L 400.0 300.0  L 401.0 300.0  L 402.0 299.983  L 402.999 299.948  L 403.998 299.896  L 404.996 299.826  L 405.992 299.739  L 406.987 299.634  L 407.98 299.512  L 408.97 299.373  L 409.958 299.217  L 410.943 299.043  L 411.925 298.852  L 412.903 298.644  L 413.877 298.419  L 414.847 298.177  L 415.813 297.918  L 416.774 297.642  L 417.73 297.35  L 418.681 297.041  L 419.627 296.715  L 420.567 296.373  L 421.501 296.015  L 422.428 295.64  L 423.349 295.249  L 424.263 294.842  L 425.169 294.419  L 426.068 293.981  L 426.959 293.527  L 427.842 293.058  L 428.717 292.573  L 429.583 292.073  L 430.44 291.558  L 431.288 291.028  L 432.127 290.483  L 432.956 289.924  L 433.775 289.35  L 434.584 288.762  L 435.383 288.16  L 436.171 287.544  L 436.948 286.915  L 437.714 286.272  L 438.469 285.616  L 439.212 284.947  L 439.943 284.265  L 440.662 283.57  L 441.369 282.863  L 442.064 282.144  L 442.746 281.413  L 443.415 280.67  L 444.071 279.915  L 444.714 279.149  L 445.343 278.372  L 445.959 277.584  L 446.561 276.785  L 447.149 275.976  L 447.723 275.157  L 448.282 274.328  L 448.827 273.489  L 449.357 272.641  L 449.872 271.784  L 450.372 270.918  L 450.857 270.043  L 451.326 269.16  L 451.78 268.269  L 452.218 267.37  L 452.641 266.464  L 453.048 265.55  L 453.439 264.629  L 453.814 263.702  L 454.172 262.768  L 454.514 261.828  L 454.84 260.882  L 455.149 259.931  L 455.441 258.975  L 455.717 258.014  L 455.976 257.048  L 456.218 256.078  L 456.443 255.104  L 456.651 254.126  L 456.842 253.144  L 457.016 252.159  L 457.172 251.171  L 457.311 250.181  L 457.433 249.188  L 457.538 248.193  L 457.625 247.197  L 457.695 246.199  L 457.747 245.2  L 457.782 244.201  L 457.799 243.201  L 457.799 242.201  L 457.782 241.201  L 457.747 240.202  L 457.695 239.203  L 457.625 238.205  L 457.538 237.209  L 457.433 236.214  L 457.311 235.221  L 457.172 234.231  L 457.016 233.243  L 456.842 232.258  L 456.651 231.276  L 456.443 230.298  L 456.218 229.324  L 455.976 228.354  L 455.717 227.388  L 455.441 226.427  L 455.149 225.471  L 454.84 224.52  L 454.514 223.574  L 454.172 222.634  L 453.814 221.7  L 453.439 220.773  L 453.048 219.852  L 452.641 218.938  L 452.218 218.032  L 451.78 217.133  L 451.326 216.242  L 450.857 215.359  L 450.372 214.484  L 449.872 213.618  L 449.357 212.761  L 448.827 211.913  L 448.282 211.074  L 447.723 210.245  L 447.149 209.426  L 446.561 208.617  L 445.959 207.818  L 445.343 207.03  L 444.714 206.253  L 444.071 205.487  L 443.415 204.732  L 442.746 203.989  L 442.064 203.258  L 441.369 202.539  L 440.662 201.832  L 439.943 201.137  L 439.212 200.455  L 438.469 199.786  L 437.714 199.13  L 436.948 198.487  L 436.171 197.858  L 435.383 197.242  L 434.584 196.64  L 433.775 196.052  L 432.956 195.478  L 432.127 194.919  L 431.288 194.374  L 430.44 193.844  L 429.583 193.329  L 428.717 192.829  L 427.842 192.344  L 426.959 191.875  L 426.068 191.421  L 425.169 190.983  L 424.263 190.56  L 423.349 190.153  L 422.428 189.762  L 421.501 189.387  L 420.567 189.029  L 419.627 188.687  L 418.681 188.361  L 417.73 188.052  L 416.774 187.76  L 415.813 187.484  L 414.847 187.225  L 413.877 186.983  L 412.903 186.758  L 411.925 186.55  L 410.943 186.359  L 409.958 186.185  L 408.97 186.029  L 407.98 185.89  L 406.987 185.768  L 405.992 185.663  L 404.996 185.576  L 403.998 185.506  L 402.999 185.454  L 402.0 185.419  L 401.0 185.402  L 400.0 185.402  L 399.0 185.419  L 398.001 185.454  L 397.002 185.506  L 396.004 185.576  L 395.008 185.663  L 394.013 185.768  L 393.02 185.89  L 392.03 186.029  L 391.042 186.185  L 390.057 186.359  L 389.075 186.55  L 388.097 186.758  L 387.123 186.983  L 386.153 187.225  L 385.187 187.484  L 384.226 187.76  L 383.27 188.052  L 382.319 188.361  L 381.373 188.687  L 380.433 189.029  L 379.499 189.387  L 378.572 189.762  L 377.651 190.153  L 376.737 190.56  L 375.831 190.983  L 374.932 191.421  L 374.041 191.875  L 373.158 192.344  L 372.283 192.829  L 371.417 193.329  L 370.56 193.844  L 369.712 194.374  L 368.873 194.919  L 368.044 195.478  L 367.225 196.052  L 366.416 196.64  L 365.617 197.242  L 364.829 197.858  L 364.052 198.487  L 363.286 199.13  L 362.531 199.786  L 361.788 200.455  L 361.057 201.137  L 360.338 201.832  L 359.631 202.539  L 358.936 203.258  L 358.254 203.989  L 357.585 204.732  L 356.929 205.487  L 356.286 206.253  L 355.657 207.03  L 355.041 207.818  L 354.439 208.617  L 353.851 209.426  L 353.277 210.245  L 352.718 211.074  L 352.173 211.913  L 351.643 212.761  L 351.128 213.618  L 350.628 214.484  L 350.143 215.359  L 349.674 216.242  L 349.22 217.133  L 348.782 218.032  L 348.359 218.938  L 347.952 219.852  L 347.561 220.773  L 347.186 221.7  L 346.828 222.634  L 346.486 223.574  L 346.16 224.52  L 345.851 225.471  L 345.559 226.427  L 345.283 227.388  L 345.024 228.354  L 344.782 229.324  L 344.557 230.298  L 344.349 231.276  L 344.158 232.258  L 343.984 233.243  L 343.828 234.231  L 343.689 235.221  L 343.567 236.214  L 343.462 237.209  L 343.375 238.205  L 343.305 239.203  L 343.253 240.202  L 343.218 241.201  L 343.201 242.201  L 343.201 243.201  L 343.218 244.201  L 343.253 245.2  L 343.305 246.199  L 343.375 247.197  L 343.462 248.193  L 343.567 249.188  L 343.689 250.181  L 343.828 251.171  L 343.984 252.159  L 344.158 253.144  L 344.349 254.126  L 344.557 255.104  L 344.782 256.078  L 345.024 257.048  L 345.283 258.014  L 345.559 258.975  L 345.851 259.931  L 346.16 260.882  L 346.486 261.828  L 346.828 262.768  L 347.186 263.702  L 347.561 264.629  L 347.952 265.55  L 348.359 266.464  L 348.782 267.37  L 349.22 268.269  L 349.674 269.16  L 350.143 270.043  L 350.628 270.918  L 351.128 271.784  L 351.643 272.641  L 352.173 273.489  L 352.718 274.328  L 353.277 275.157  L 353.851 275.976  L 354.439 276.785  L 355.041 277.584  L 355.657 278.372  L 356.286 279.149  L 356.929 279.915  L 357.585 280.67  L 358.254 281.413  L 358.936 282.144  L 359.631 282.863  L 360.338 283.57  L 361.057 284.265  L 361.788 284.947  L 362.531 285.616  L 363.286 286.272  L 364.052 286.915  L 364.829 287.544  L 365.617 288.16  L 366.416 288.762  L 367.225 289.35  L 368.044 289.924  L 368.873 290.483  L 369.712 291.028  L 370.56 291.558  L 371.417 292.073  L 372.283 292.573  L 373.158 293.058  L 374.041 293.527  L 374.932 293.981  L 375.831 294.419  L 376.737 294.842  L 377.651 295.249  L 378.572 295.64  L 379.499 296.015  L 380.433 296.373  L 381.373 296.715  L 382.319 297.041  L 383.27 297.35  L 384.226 297.642  L 385.187 297.918  L 386.153 298.177  L 387.123 298.419  L 388.097 298.644  L 389.075 298.852  L 390.057 299.043  L 391.042 299.217  L 392.03 299.373  L 393.02 299.512  L 394.013 299.634  L 395.008 299.739  L 396.004 299.826  L 397.002 299.896  L 398.001 299.948  L 399.0 299.983  L 400.0 300.0 \" stroke-linecap=\"round\" style=\"stroke:black;stroke-width:1\" fill=\"green\" />\n",
              "        \n",
              "        \n",
              "        <g id=\"classic\" visibility=\"visible\" transform=\"rotate(-90,400.0,300.0) translate(400.0, 300.0)\">\n",
              "<polygon points=\"-5,-4.5 0,-2.5 5,-4.5 0,4.5\" transform=\"skewX(0) scale(1,1)\" style=\"stroke:black;fill:green;stroke-width:1\" />\n",
              "</g>\n",
              "      </svg>\n",
              "    "
            ]
          },
          "metadata": {}
        }
      ]
    },
    {
      "cell_type": "markdown",
      "source": [
        "Feb 7"
      ],
      "metadata": {
        "id": "eUeUtHTdDa3_"
      }
    },
    {
      "cell_type": "code",
      "source": [
        "from prettytable import PrettyTable\n",
        "x=5\n",
        "y=2.5\n",
        "\n",
        "for n in range (1, 9):\n",
        "  hour_rate= x+(y*n)\n",
        "parking_fees = PrettyTable([\"Hours of Praking\", \"Total Fee\"])\n",
        "for n in range (1,9):\n",
        "  hour_rate= x+(y*n)\n",
        "\n",
        "  parking_fees.add_row([n, hour_rate])\n",
        "  if hour_rate > 10 and hour_rate<20:\n",
        "    print(hour_rate)\n",
        "\n",
        "\n",
        "print(parking_fees)\n",
        "\n",
        "\n"
      ],
      "metadata": {
        "colab": {
          "base_uri": "https://localhost:8080/"
        },
        "id": "83vUe9e1DePp",
        "outputId": "8ddd0c6c-673c-4f18-9e87-d51271e61a3e"
      },
      "execution_count": null,
      "outputs": [
        {
          "output_type": "stream",
          "name": "stdout",
          "text": [
            "12.5\n",
            "12.5\n",
            "15.0\n",
            "15.0\n",
            "17.5\n",
            "17.5\n",
            "+------------------+-----------+\n",
            "| Hours of Praking | Total Fee |\n",
            "+------------------+-----------+\n",
            "|        1         |    7.5    |\n",
            "|        2         |    10.0   |\n",
            "|        3         |    12.5   |\n",
            "|        4         |    15.0   |\n",
            "|        5         |    17.5   |\n",
            "|        6         |    20.0   |\n",
            "|        7         |    22.5   |\n",
            "|        8         |    25.0   |\n",
            "+------------------+-----------+\n"
          ]
        }
      ]
    },
    {
      "cell_type": "code",
      "source": [
        "x= 5\n",
        "y = 2.5\n",
        "max_fee= 20\n",
        "min_fee= 10\n",
        "\n",
        "for n in range (1,9):\n",
        "  hour_rate = x+(y*n)\n",
        "  if hour_rate > = 10:\n",
        "    print(f\"Hours: {n}\n",
        "  elif hou_\n",
        "\n",
        "\n"
      ],
      "metadata": {
        "id": "-suDH0QjLSBV"
      },
      "execution_count": null,
      "outputs": []
    },
    {
      "cell_type": "markdown",
      "source": [
        "Feb 9\n"
      ],
      "metadata": {
        "id": "FhMKCzZIWs_U"
      }
    },
    {
      "cell_type": "code",
      "source": [],
      "metadata": {
        "id": "f25FkpxjWuCq"
      },
      "execution_count": null,
      "outputs": []
    },
    {
      "cell_type": "code",
      "source": [
        "i=1\n",
        "n=5\n",
        "while i<n:\n",
        "  print(i)\n",
        "  i= i+1\n"
      ],
      "metadata": {
        "colab": {
          "base_uri": "https://localhost:8080/"
        },
        "id": "qjv0oOsCXaTg",
        "outputId": "06a2b7e5-27bf-47f6-afd4-e1df5e392c17"
      },
      "execution_count": null,
      "outputs": [
        {
          "output_type": "stream",
          "name": "stdout",
          "text": [
            "1\n",
            "2\n",
            "3\n",
            "4\n"
          ]
        }
      ]
    },
    {
      "cell_type": "code",
      "source": [
        "import random\n",
        "\n",
        "user_input = input(\"Play Again (y/n)?\")\n",
        "while user_input == \"y\":\n",
        "  pc_choice = random.choice(['rock', 'paper', 'scissors'])\n",
        "  choice = input('Enter your choice:')\n",
        "  print(pc_choice)\n",
        "  if choice == pc_choice:\n",
        "    print('Tie')\n",
        "  elif (choice == 'scissors' and pc_choice == 'rock') or (choice == 'rock' and pc_choice == 'paper') or (choice == 'paper' and pc_choice == 'scissors'):\n",
        "    print(\"Your loose\")\n",
        "  else:\n",
        "      print('you win')\n",
        "  user_input = input(\"Play Again (y/n)?\")\n",
        "\n"
      ],
      "metadata": {
        "id": "LNlbn8SBaA_4",
        "colab": {
          "base_uri": "https://localhost:8080/"
        },
        "outputId": "0e89d5e9-f05e-4b13-a662-29f6c5bfeff9"
      },
      "execution_count": null,
      "outputs": [
        {
          "name": "stdout",
          "output_type": "stream",
          "text": [
            "Play Again (y/n)?y\n",
            "Enter your choice:scissor\n",
            "paper\n",
            "you win\n",
            "Play Again (y/n)?y\n",
            "Enter your choice:paper\n",
            "rock\n",
            "you win\n",
            "Play Again (y/n)?n\n"
          ]
        }
      ]
    },
    {
      "cell_type": "code",
      "source": [
        "down= 100000\n",
        "deposit=10000\n",
        "amount=5000\n",
        "nmonths = 0\n",
        "while deposit < down:\n",
        "  deposit = deposit+amount\n",
        "  nmonths = nmonths + 1\n",
        "print(nmonths)\n",
        "\n"
      ],
      "metadata": {
        "colab": {
          "base_uri": "https://localhost:8080/"
        },
        "id": "AEJti3Nwer6N",
        "outputId": "ce16f3de-0b6b-4125-8760-3584cbc2062e"
      },
      "execution_count": null,
      "outputs": [
        {
          "output_type": "stream",
          "name": "stdout",
          "text": [
            "18\n"
          ]
        }
      ]
    },
    {
      "cell_type": "markdown",
      "source": [
        "Feb 12"
      ],
      "metadata": {
        "id": "cyjinHPkyckz"
      }
    },
    {
      "cell_type": "code",
      "source": [
        "while True:\n",
        "\n",
        "  Num_one = int(input(\"Enter your first number:\"))\n",
        "  Num_two = int(input(\"Enter second number:\"))\n",
        "  operator = input(\"Enter operator (+,-,*,/,//,%,**, break, continue):\")\n",
        "  if operator == \"break\":\n",
        "    break\n",
        "  if operator == \"+\":\n",
        "    answer = Num_one + Num_two\n",
        "  elif operator == \"-\":\n",
        "    answer= Num_one - Num_two\n",
        "  elif operator == \"*\":\n",
        "    answer = Num_one * Num_two\n",
        "  elif operator == \"/\":\n",
        "   answer =  Num_one/Num_two\n",
        "  elif operator == \"//\":\n",
        "    answer = Num_one // Num_two\n",
        "  elif operator == \"%\":\n",
        "    answer = Num_one % Num_two\n",
        "  elif operator == \"**\":\n",
        "   answer = Num_one ** Num_two\n",
        "  else:\n",
        "   continue\n",
        "  print(answer)\n"
      ],
      "metadata": {
        "colab": {
          "base_uri": "https://localhost:8080/",
          "height": 357
        },
        "id": "znqNsFjbyfJN",
        "outputId": "15579f9c-a2dd-4a6b-8c3e-6b6f79463a65"
      },
      "execution_count": null,
      "outputs": [
        {
          "name": "stdout",
          "output_type": "stream",
          "text": [
            "Enter your first number:4\n",
            "Enter second number:2\n",
            "Enter operator (+,-,*,/,//,%,**, break, continue):%\n",
            "0\n",
            "Enter your first number:3\n",
            "Enter second number:1/\n"
          ]
        },
        {
          "output_type": "error",
          "ename": "ValueError",
          "evalue": "invalid literal for int() with base 10: '1/'",
          "traceback": [
            "\u001b[0;31m---------------------------------------------------------------------------\u001b[0m",
            "\u001b[0;31mValueError\u001b[0m                                Traceback (most recent call last)",
            "\u001b[0;32m<ipython-input-14-6a062994d1db>\u001b[0m in \u001b[0;36m<cell line: 1>\u001b[0;34m()\u001b[0m\n\u001b[1;32m      2\u001b[0m \u001b[0;34m\u001b[0m\u001b[0m\n\u001b[1;32m      3\u001b[0m   \u001b[0mNum_one\u001b[0m \u001b[0;34m=\u001b[0m \u001b[0mint\u001b[0m\u001b[0;34m(\u001b[0m\u001b[0minput\u001b[0m\u001b[0;34m(\u001b[0m\u001b[0;34m\"Enter your first number:\"\u001b[0m\u001b[0;34m)\u001b[0m\u001b[0;34m)\u001b[0m\u001b[0;34m\u001b[0m\u001b[0;34m\u001b[0m\u001b[0m\n\u001b[0;32m----> 4\u001b[0;31m   \u001b[0mNum_two\u001b[0m \u001b[0;34m=\u001b[0m \u001b[0mint\u001b[0m\u001b[0;34m(\u001b[0m\u001b[0minput\u001b[0m\u001b[0;34m(\u001b[0m\u001b[0;34m\"Enter second number:\"\u001b[0m\u001b[0;34m)\u001b[0m\u001b[0;34m)\u001b[0m\u001b[0;34m\u001b[0m\u001b[0;34m\u001b[0m\u001b[0m\n\u001b[0m\u001b[1;32m      5\u001b[0m   \u001b[0moperator\u001b[0m \u001b[0;34m=\u001b[0m \u001b[0minput\u001b[0m\u001b[0;34m(\u001b[0m\u001b[0;34m\"Enter operator (+,-,*,/,//,%,**, break, continue):\"\u001b[0m\u001b[0;34m)\u001b[0m\u001b[0;34m\u001b[0m\u001b[0;34m\u001b[0m\u001b[0m\n\u001b[1;32m      6\u001b[0m   \u001b[0;32mif\u001b[0m \u001b[0moperator\u001b[0m \u001b[0;34m==\u001b[0m \u001b[0;34m\"break\"\u001b[0m\u001b[0;34m:\u001b[0m\u001b[0;34m\u001b[0m\u001b[0;34m\u001b[0m\u001b[0m\n",
            "\u001b[0;31mValueError\u001b[0m: invalid literal for int() with base 10: '1/'"
          ]
        }
      ]
    },
    {
      "cell_type": "markdown",
      "source": [
        "Feb 14\n",
        "For Quiz:\n",
        " - dont waste time on input\n",
        " - conditional, literations, break and contniue"
      ],
      "metadata": {
        "id": "jNrOMIZWGKsj"
      }
    },
    {
      "cell_type": "code",
      "source": [
        "while True:\n",
        "  n1 = float(input('Enter first number:'))\n",
        "  n2 = float(input('Enter second number:'))\n",
        "  operator = input('Enter your operator (+,-,/,//,*,**,%, break):')\n",
        "  if operator == \"break\":\n",
        "    print(\"Goodbye!\")\n",
        "    break\n",
        "  if operator == \"+\":\n",
        "    answer = n1+n2\n",
        "  elif operator == \"-\":\n",
        "    answer = n1-n2\n",
        "  elif operator == \"/\":\n",
        "    answer = n1 /n2\n",
        "  elif operator ==\"//\":\n",
        "    answer = n1//n2\n",
        "  elif operator == \"%\":\n",
        "    answer = n1%n2\n",
        "  elif operator == \"*\":\n",
        "    answer = n1*n2\n",
        "  elif operator == \"**\":\n",
        "    answer = n1**n2\n",
        "  else:\n",
        "    print('Invalid Operator', operator)\n",
        "    continue\n",
        "  print(\"Result:\", answer)\n",
        "\n",
        "word= \"hello\"\n",
        "len(word)\n",
        "\n"
      ],
      "metadata": {
        "colab": {
          "base_uri": "https://localhost:8080/",
          "height": 471
        },
        "id": "I5YcWrKxGL9t",
        "outputId": "deb0d21c-a0ce-460c-aced-a9d714b56db5"
      },
      "execution_count": null,
      "outputs": [
        {
          "output_type": "stream",
          "name": "stdout",
          "text": [
            "Enter first number:0\n",
            "Enter second number:11\n",
            "Enter your operator (+,-,/,//,*,**,%, break):*-\n",
            "Invalid Operator *-\n"
          ]
        },
        {
          "output_type": "error",
          "ename": "KeyboardInterrupt",
          "evalue": "Interrupted by user",
          "traceback": [
            "\u001b[0;31m---------------------------------------------------------------------------\u001b[0m",
            "\u001b[0;31mKeyboardInterrupt\u001b[0m                         Traceback (most recent call last)",
            "\u001b[0;32m<ipython-input-15-70597d480e38>\u001b[0m in \u001b[0;36m<cell line: 1>\u001b[0;34m()\u001b[0m\n\u001b[1;32m      1\u001b[0m \u001b[0;32mwhile\u001b[0m \u001b[0;32mTrue\u001b[0m\u001b[0;34m:\u001b[0m\u001b[0;34m\u001b[0m\u001b[0;34m\u001b[0m\u001b[0m\n\u001b[0;32m----> 2\u001b[0;31m   \u001b[0mn1\u001b[0m \u001b[0;34m=\u001b[0m \u001b[0mfloat\u001b[0m\u001b[0;34m(\u001b[0m\u001b[0minput\u001b[0m\u001b[0;34m(\u001b[0m\u001b[0;34m'Enter first number:'\u001b[0m\u001b[0;34m)\u001b[0m\u001b[0;34m)\u001b[0m\u001b[0;34m\u001b[0m\u001b[0;34m\u001b[0m\u001b[0m\n\u001b[0m\u001b[1;32m      3\u001b[0m   \u001b[0mn2\u001b[0m \u001b[0;34m=\u001b[0m \u001b[0mfloat\u001b[0m\u001b[0;34m(\u001b[0m\u001b[0minput\u001b[0m\u001b[0;34m(\u001b[0m\u001b[0;34m'Enter second number:'\u001b[0m\u001b[0;34m)\u001b[0m\u001b[0;34m)\u001b[0m\u001b[0;34m\u001b[0m\u001b[0;34m\u001b[0m\u001b[0m\n\u001b[1;32m      4\u001b[0m   \u001b[0moperator\u001b[0m \u001b[0;34m=\u001b[0m \u001b[0minput\u001b[0m\u001b[0;34m(\u001b[0m\u001b[0;34m'Enter your operator (+,-,/,//,*,**,%, break):'\u001b[0m\u001b[0;34m)\u001b[0m\u001b[0;34m\u001b[0m\u001b[0;34m\u001b[0m\u001b[0m\n\u001b[1;32m      5\u001b[0m   \u001b[0;32mif\u001b[0m \u001b[0moperator\u001b[0m \u001b[0;34m==\u001b[0m \u001b[0;34m\"break\"\u001b[0m\u001b[0;34m:\u001b[0m\u001b[0;34m\u001b[0m\u001b[0;34m\u001b[0m\u001b[0m\n",
            "\u001b[0;32m/usr/local/lib/python3.10/dist-packages/ipykernel/kernelbase.py\u001b[0m in \u001b[0;36mraw_input\u001b[0;34m(self, prompt)\u001b[0m\n\u001b[1;32m    849\u001b[0m                 \u001b[0;34m\"raw_input was called, but this frontend does not support input requests.\"\u001b[0m\u001b[0;34m\u001b[0m\u001b[0;34m\u001b[0m\u001b[0m\n\u001b[1;32m    850\u001b[0m             )\n\u001b[0;32m--> 851\u001b[0;31m         return self._input_request(str(prompt),\n\u001b[0m\u001b[1;32m    852\u001b[0m             \u001b[0mself\u001b[0m\u001b[0;34m.\u001b[0m\u001b[0m_parent_ident\u001b[0m\u001b[0;34m,\u001b[0m\u001b[0;34m\u001b[0m\u001b[0;34m\u001b[0m\u001b[0m\n\u001b[1;32m    853\u001b[0m             \u001b[0mself\u001b[0m\u001b[0;34m.\u001b[0m\u001b[0m_parent_header\u001b[0m\u001b[0;34m,\u001b[0m\u001b[0;34m\u001b[0m\u001b[0;34m\u001b[0m\u001b[0m\n",
            "\u001b[0;32m/usr/local/lib/python3.10/dist-packages/ipykernel/kernelbase.py\u001b[0m in \u001b[0;36m_input_request\u001b[0;34m(self, prompt, ident, parent, password)\u001b[0m\n\u001b[1;32m    893\u001b[0m             \u001b[0;32mexcept\u001b[0m \u001b[0mKeyboardInterrupt\u001b[0m\u001b[0;34m:\u001b[0m\u001b[0;34m\u001b[0m\u001b[0;34m\u001b[0m\u001b[0m\n\u001b[1;32m    894\u001b[0m                 \u001b[0;31m# re-raise KeyboardInterrupt, to truncate traceback\u001b[0m\u001b[0;34m\u001b[0m\u001b[0;34m\u001b[0m\u001b[0m\n\u001b[0;32m--> 895\u001b[0;31m                 \u001b[0;32mraise\u001b[0m \u001b[0mKeyboardInterrupt\u001b[0m\u001b[0;34m(\u001b[0m\u001b[0;34m\"Interrupted by user\"\u001b[0m\u001b[0;34m)\u001b[0m \u001b[0;32mfrom\u001b[0m \u001b[0;32mNone\u001b[0m\u001b[0;34m\u001b[0m\u001b[0;34m\u001b[0m\u001b[0m\n\u001b[0m\u001b[1;32m    896\u001b[0m             \u001b[0;32mexcept\u001b[0m \u001b[0mException\u001b[0m \u001b[0;32mas\u001b[0m \u001b[0me\u001b[0m\u001b[0;34m:\u001b[0m\u001b[0;34m\u001b[0m\u001b[0;34m\u001b[0m\u001b[0m\n\u001b[1;32m    897\u001b[0m                 \u001b[0mself\u001b[0m\u001b[0;34m.\u001b[0m\u001b[0mlog\u001b[0m\u001b[0;34m.\u001b[0m\u001b[0mwarning\u001b[0m\u001b[0;34m(\u001b[0m\u001b[0;34m\"Invalid Message:\"\u001b[0m\u001b[0;34m,\u001b[0m \u001b[0mexc_info\u001b[0m\u001b[0;34m=\u001b[0m\u001b[0;32mTrue\u001b[0m\u001b[0;34m)\u001b[0m\u001b[0;34m\u001b[0m\u001b[0;34m\u001b[0m\u001b[0m\n",
            "\u001b[0;31mKeyboardInterrupt\u001b[0m: Interrupted by user"
          ]
        }
      ]
    },
    {
      "cell_type": "code",
      "source": [
        "word = 'hello'\n",
        "len(word)\n",
        "#counted from left to right#\n",
        "# word = h(0) e(1) l(2) l(3) o(4)#\n",
        "word[2]\n",
        "#I want the fourth letter#\n",
        "word[(4-1)]\n",
        "\n",
        "#function range returns a sequence of integers#\n",
        "word[1:4:1]\n",
        "\n"
      ],
      "metadata": {
        "colab": {
          "base_uri": "https://localhost:8080/",
          "height": 35
        },
        "id": "LjDi7d3zH1-C",
        "outputId": "abd0de1a-2231-4b71-da1d-a1269f45aa2b"
      },
      "execution_count": null,
      "outputs": [
        {
          "output_type": "execute_result",
          "data": {
            "text/plain": [
              "'ell'"
            ],
            "application/vnd.google.colaboratory.intrinsic+json": {
              "type": "string"
            }
          },
          "metadata": {},
          "execution_count": 22
        }
      ]
    },
    {
      "cell_type": "markdown",
      "source": [
        "Feb 16"
      ],
      "metadata": {
        "id": "W2bYEgDgZndP"
      }
    },
    {
      "cell_type": "code",
      "source": [
        "s=\"Fabulous\"\n",
        "len(s)\n",
        "#8#\n",
        "e= \"probably not\"\n",
        "len(e)\n",
        "#12#\n",
        "print(e[4])\n",
        "#a#\n",
        "print(e[0:8:1])\n",
        "#probably#\n",
        "print(e[len(e)-1])\n",
        "#last character of string 't', length minus 1 always give you the last character in a string#\n",
        "print(e[-3])\n",
        "#third to last character of striung e#\n",
        "s2= \"This is a test\"\n",
        "this_word = s2[0:4:1]\n",
        "test_word = s2[10:]\n",
        "print(this_word, test_word)"
      ],
      "metadata": {
        "colab": {
          "base_uri": "https://localhost:8080/"
        },
        "id": "VzdqTHnzZpgy",
        "outputId": "4416b275-8664-4642-ddf6-d2a3a550ce05"
      },
      "execution_count": null,
      "outputs": [
        {
          "output_type": "stream",
          "name": "stdout",
          "text": [
            "a\n",
            "probably\n",
            "t\n",
            "n\n",
            "This test\n"
          ]
        }
      ]
    },
    {
      "cell_type": "code",
      "source": [
        "s2[:4] == s2[0:4]\n",
        "s2[:]\n",
        "s2[1:13:2]\n",
        "s2[1:12:2]\n",
        "s2[-4:]\n",
        "s1 = \"hello \"\n",
        "s2 = \"there\"\n",
        "s1 + s2\n",
        "#concatenate strings togethere#can\"t add nonstring object with strings and you can't multiply a string without a integer#\n",
        "s2 + s1\n",
        "s3 = \"abc\"\n",
        "2*s3\n",
        "s4 = '-'\n",
        "print((10*s4), '>')\n",
        "#result is always a new string#\n",
        "#length, indexing, slicing, addition, and multiplication work exactly the same way on 2% list#\n",
        "s1='cde'\n",
        "s1=s1*2\n",
        "print(s1)"
      ],
      "metadata": {
        "colab": {
          "base_uri": "https://localhost:8080/"
        },
        "id": "qgE3qV-rehUH",
        "outputId": "f2563e38-34c7-4360-abde-707207d0fcb0"
      },
      "execution_count": null,
      "outputs": [
        {
          "output_type": "stream",
          "name": "stdout",
          "text": [
            "---------- >\n",
            "cdecde\n"
          ]
        }
      ]
    },
    {
      "cell_type": "code",
      "source": [
        "s=\"abcde\"\n",
        "s[2]\n",
        "s[1:]\n",
        "s[:-1]"
      ],
      "metadata": {
        "colab": {
          "base_uri": "https://localhost:8080/",
          "height": 35
        },
        "id": "_5d_W5DgJzCj",
        "outputId": "1b62ee26-d8de-48d6-9393-b8ef1fbdfe97"
      },
      "execution_count": null,
      "outputs": [
        {
          "output_type": "execute_result",
          "data": {
            "text/plain": [
              "'abcd'"
            ],
            "application/vnd.google.colaboratory.intrinsic+json": {
              "type": "string"
            }
          },
          "metadata": {},
          "execution_count": 6
        }
      ]
    },
    {
      "cell_type": "markdown",
      "source": [
        "Feb 23"
      ],
      "metadata": {
        "id": "qwmllnjkdXze"
      }
    },
    {
      "cell_type": "code",
      "source": [
        "s='Abcdeg'\n",
        "sq='abc'\n",
        "sw='defg'\n",
        "s3=sq+sw\n",
        "print(s3)\n",
        "s4=sq*4\n",
        "print(s4)\n",
        "#result is always a new string#\n",
        "#key word in works only for composite objects, allows to search for individual items in sequences or subsequences in sequences#\n",
        "#'a' in 'abc' = TRUE#\n",
        "\"a\" in \"abc\"\n",
        "#object in sequence is a boolean expression#\n",
        "for index in range(0,len(sq), 1):\n",
        "  print(sq[index])\n",
        "  #a\n",
        "  #b\n",
        "  #c\n",
        "  for index2 in sq:\n",
        "    print(index2)\n",
        "    #pythonian approach\n",
        "  s1 ='abcdefg'\n",
        "  s2= 'abdght'\n",
        "  for index1 in s1:\n",
        "    if index1 == s2:\n",
        "      print(index1)\n",
        "\n",
        "\n"
      ],
      "metadata": {
        "colab": {
          "base_uri": "https://localhost:8080/"
        },
        "id": "mbzPCjYrdWr7",
        "outputId": "4d82f9d5-2f5a-4266-9a70-a03e7839c0ec"
      },
      "execution_count": 11,
      "outputs": [
        {
          "output_type": "stream",
          "name": "stdout",
          "text": [
            "abcdefg\n",
            "abcabcabcabc\n",
            "a\n",
            "a\n",
            "b\n",
            "c\n",
            "b\n",
            "a\n",
            "b\n",
            "c\n",
            "c\n",
            "a\n",
            "b\n",
            "c\n"
          ]
        }
      ]
    },
    {
      "cell_type": "code",
      "source": [
        "s1=\"abcdefg\"\n",
        "s2=\"abcght\"\n",
        "for char1 in s1:\n",
        "  if char1 in s2:\n",
        "    print (char1)\n",
        "    for index in range(0,len(s1),1):\n",
        "      if s1[index] in s2:\n",
        "        print(s1[index])"
      ],
      "metadata": {
        "colab": {
          "base_uri": "https://localhost:8080/"
        },
        "id": "uTvp_TdYjoqZ",
        "outputId": "6c2c9c12-1902-4f52-a7f1-bfdc6a3bb97e"
      },
      "execution_count": 17,
      "outputs": [
        {
          "output_type": "stream",
          "name": "stdout",
          "text": [
            "a\n",
            "a\n",
            "b\n",
            "c\n",
            "g\n",
            "b\n",
            "a\n",
            "b\n",
            "c\n",
            "g\n",
            "c\n",
            "a\n",
            "b\n",
            "c\n",
            "g\n",
            "g\n",
            "a\n",
            "b\n",
            "c\n",
            "g\n"
          ]
        }
      ]
    }
  ]
}