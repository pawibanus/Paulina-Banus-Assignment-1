{
  "nbformat": 4,
  "nbformat_minor": 0,
  "metadata": {
    "colab": {
      "provenance": [],
      "authorship_tag": "ABX9TyNIJUwEA8Y7WnkUKqFqkMgQ",
      "include_colab_link": true
    },
    "kernelspec": {
      "name": "python3",
      "display_name": "Python 3"
    },
    "language_info": {
      "name": "python"
    }
  },
  "cells": [
    {
      "cell_type": "markdown",
      "metadata": {
        "id": "view-in-github",
        "colab_type": "text"
      },
      "source": [
        "<a href=\"https://colab.research.google.com/github/pawibanus/Paulina-Banus-Assignment-1/blob/main/Calculator_Feb_14.ipynb\" target=\"_parent\"><img src=\"https://colab.research.google.com/assets/colab-badge.svg\" alt=\"Open In Colab\"/></a>"
      ]
    },
    {
      "cell_type": "code",
      "execution_count": null,
      "metadata": {
        "id": "uveqtGTXMEUL"
      },
      "outputs": [],
      "source": [
        "while True:\n",
        "  n1 = float(input('Enter first number:'))\n",
        "  n2 = float(input('Enter second number:'))\n",
        "  operator = input('Enter your operator (+,-,/,//,*,**,%, break):')\n",
        "  if operator == \"break\":\n",
        "    print(\"Goodbye!\")\n",
        "    break\n",
        "  if operator == \"+\":\n",
        "    answer = n1+n2\n",
        "  elif operator == \"-\":\n",
        "    answer = n1-n2\n",
        "  elif operator == \"/\":\n",
        "    answer = n1 /n2\n",
        "  elif operator ==\"//\":\n",
        "    answer = n1//n2\n",
        "  elif operator == \"%\":\n",
        "    answer = n1%n2\n",
        "  elif operator == \"*\":\n",
        "    answer = n1*n2\n",
        "  elif operator == \"**\":\n",
        "    answer = n1**n2\n",
        "  else:\n",
        "    print('Invalid Operator', operator)\n",
        "    continue\n",
        "  print(\"Result:\", answer)"
      ]
    }
  ]
}