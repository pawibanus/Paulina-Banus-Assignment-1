{
  "nbformat": 4,
  "nbformat_minor": 0,
  "metadata": {
    "colab": {
      "provenance": [],
      "authorship_tag": "ABX9TyODEZv2GmDXfcN36WLGncwI",
      "include_colab_link": true
    },
    "kernelspec": {
      "name": "python3",
      "display_name": "Python 3"
    },
    "language_info": {
      "name": "python"
    }
  },
  "cells": [
    {
      "cell_type": "markdown",
      "metadata": {
        "id": "view-in-github",
        "colab_type": "text"
      },
      "source": [
        "<a href=\"https://colab.research.google.com/github/pawibanus/Paulina-Banus-Assignment-1/blob/main/Deposit_%2B_interest.ipynb\" target=\"_parent\"><img src=\"https://colab.research.google.com/assets/colab-badge.svg\" alt=\"Open In Colab\"/></a>"
      ]
    },
    {
      "cell_type": "code",
      "execution_count": null,
      "metadata": {
        "id": "Tg55pwj1sM-7"
      },
      "outputs": [],
      "source": [
        "\n",
        "deposit = float(input('Enter your deposit:'))\n",
        "if deposit > 10000:\n",
        "  ir = 3.5\n",
        "elif deposit <= 1000:\n",
        "  ir = 3.0\n",
        "else:\n",
        "  ir = 3.25\n",
        "total = (1+ ir/100) * deposit\n",
        "print(f'Deposit at the end of year will be: {round(total, 2)}')"
      ]
    }
  ]
}