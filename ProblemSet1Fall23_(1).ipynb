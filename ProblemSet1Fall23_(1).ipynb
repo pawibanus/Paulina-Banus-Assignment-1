{
  "nbformat": 4,
  "nbformat_minor": 0,
  "metadata": {
    "colab": {
      "provenance": [],
      "include_colab_link": true
    },
    "kernelspec": {
      "name": "python3",
      "display_name": "Python 3"
    },
    "language_info": {
      "name": "python"
    }
  },
  "cells": [
    {
      "cell_type": "markdown",
      "metadata": {
        "id": "view-in-github",
        "colab_type": "text"
      },
      "source": [
        "<a href=\"https://colab.research.google.com/github/pawibanus/Paulina-Banus-Assignment-1/blob/main/ProblemSet1Fall23_(1).ipynb\" target=\"_parent\"><img src=\"https://colab.research.google.com/assets/colab-badge.svg\" alt=\"Open In Colab\"/></a>"
      ]
    },
    {
      "cell_type": "markdown",
      "source": [
        "# Problem Set 2"
      ],
      "metadata": {
        "id": "mqKVIuY-mxNU"
      }
    },
    {
      "cell_type": "markdown",
      "source": [
        "## Assignment 1: Quality Control (7 points)\n",
        "\n",
        "A quality control manager would like to find the average weight of a list of weights. Prior experience indicates that the first two measures are atypical, and the practice is to exclude these from the average calculation.\n",
        "\n",
        "Write a program that calculates the average of a list of numbers that given as inputs from the user, excluding the first two values.\n",
        "\n",
        "For your program, you must define and use the following functions:\n",
        "- `getValues(n)`: Prompt the user for `n` values, returns the list\n",
        "- `calcAverage(alist)`: Calculates the average from the list"
      ],
      "metadata": {
        "id": "-RSYW1jVm08n"
      }
    },
    {
      "cell_type": "code",
      "source": [
        "weights=[]\n",
        "def getValues():\n",
        "  n = int(input('enter number of weights:'))\n",
        "  if n<3:\n",
        "    print('Not enough weights')\n",
        "  else:\n",
        "    for i in range(n):\n",
        "      weight= float(int(input(\"Enter weight:\")))\n",
        "      weights.append(weight)\n",
        "\n",
        "\n",
        "def calcAverage():\n",
        "    excluded = weights[2:]\n",
        "    average = sum(excluded)/len(excluded)\n",
        "    return average\n",
        "\n",
        "\n",
        "getValues()\n",
        "\n",
        "calcAverage()\n"
      ],
      "metadata": {
        "colab": {
          "base_uri": "https://localhost:8080/"
        },
        "id": "BTlE1vS0WxoT",
        "outputId": "648f0d86-eb20-46fa-9ca4-31e35def4c83"
      },
      "execution_count": 58,
      "outputs": [
        {
          "name": "stdout",
          "output_type": "stream",
          "text": [
            "enter number of weights:6\n",
            "Enter weight:1\n",
            "Enter weight:2\n",
            "Enter weight:3\n",
            "Enter weight:4\n",
            "Enter weight:5\n",
            "Enter weight:6\n"
          ]
        },
        {
          "output_type": "execute_result",
          "data": {
            "text/plain": [
              "4.5"
            ]
          },
          "metadata": {},
          "execution_count": 58
        }
      ]
    },
    {
      "cell_type": "markdown",
      "source": [
        "## Assignment 2: Country Statistics Lookup-Multiple Measures (6 points)\n",
        "\n",
        "Assume a program begins with the statement:\n",
        "\n",
        "```python\n",
        "allData = { # dictionary of values for countries\n",
        "    'US': {'pop':325.7, 'gdp': 19.39, 'ccy': 'USD', 'fx':  1.0},\n",
        "    'CA': {'pop': 36.5, 'gdp':  1.65, 'ccy': 'CAD', 'fx':  1.35},\n",
        "    'MX': {'pop':129.2, 'gdp':  1.15, 'ccy': 'MXN', 'fx': 19.68}\n",
        "    }\n",
        "```\n",
        "\n",
        "Write subsequent statements that (in a loop) prompt the user for a country code (`US`, `CA`, or `MX`), then prompt for a measure name (`pop`, `gdp`, `ccy`, or `fx`), then look up in the above dictionary for the corresponding value, and display it.\n",
        "\n",
        "Example run:\n",
        "```\n",
        "Please enter a country code: CA\n",
        "Please enter a statistic: pop\n",
        "CA pop = 36.5\n",
        "```\n",
        "\n",
        "Your program should handle the cases where a user-entered country code or measure name is not found."
      ],
      "metadata": {
        "id": "QFO0Kzx8ncnv"
      }
    },
    {
      "cell_type": "code",
      "source": [
        "allData = { # dictionary of values for countries\n",
        "    'US': {'pop':325.7, 'gdp': 19.39, 'ccy': 'USD', 'fx':  1.0},\n",
        "    'CA': {'pop': 36.5, 'gdp':  1.65, 'ccy': 'CAD', 'fx':  1.35},\n",
        "    'MX': {'pop':129.2, 'gdp':  1.15, 'ccy': 'MXN', 'fx': 19.68}\n",
        "    }\n",
        "while True:\n",
        "  country= input(\"Please enter country code (or type \\'exit\\' to stop):\")\n",
        "  if country== 'exit':\n",
        "    break\n",
        "  if country not in allData.keys():\n",
        "    print(f'This country code does not exist: {country}')\n",
        "    continue\n",
        "  statistic = input(\"please enter statistic:\")\n",
        "  if statistic not in allData[country].keys():\n",
        "    print(f'Unknown statistc: {statistic}')\n",
        "    continue\\\n",
        "\n",
        "  if statistic == 'pop':\n",
        "    print(f\"Population:{allData[country][statistic]} million people.\")\n",
        "  elif statistic == 'gdp':\n",
        "    print(f'GDP: {allData[country][statistic]}')\n",
        "  elif statistic == 'ccy':\n",
        "    print(f\"Currency: {allData[country][statistic]}\")\n",
        "  else:\n",
        "    print(f'FX: {allData[country][statistc]}')\n",
        "\n",
        "\n",
        "\n",
        "\n",
        "\n",
        "\n",
        "\n"
      ],
      "metadata": {
        "id": "NZFjRINKowEW"
      },
      "execution_count": null,
      "outputs": []
    },
    {
      "cell_type": "markdown",
      "source": [
        "## Assignment 3: Parking Garage (6 points)\n",
        "\n",
        "Write a program to compute the fee for parking in a garage for a number of hours.\n",
        "\n",
        "The program should:\n",
        "- Prompt the user for how many hours parked\n",
        "- Calculate the fee based on the following rules:\n",
        "  - $2.50/hour\n",
        "\n",
        "  - minimum fee is $6.00\n",
        "\n",
        "  - maximum fee is $20.00\n",
        "- Print the result\n",
        "\n",
        "For your program, define and use the following two functions:\n",
        "```python\n",
        "# use input() to prompt for the # of hours parked, return this value\n",
        "def getParkingHours()\n",
        "\n",
        "# takes as input hours (a number), returns the parking fee\n",
        "def calcParkingFee()\n",
        "```"
      ],
      "metadata": {
        "id": "GjaUFrnfpKFf"
      }
    },
    {
      "cell_type": "code",
      "source": [
        "def getParkingHours():\n",
        "  return int(input('Enter number of parking hours:'))\n",
        "\n",
        "def calcParkingFee():\n",
        "  fee= getParkingHours() * 2.5\n",
        "  if fee<= 6:\n",
        "    return 6\n",
        "  elif fee>=20:\n",
        "    return 20\n",
        "  else:\n",
        "    return fee\n",
        "\n",
        "\n",
        "fee = calcParkingFee()\n",
        "print(f'Total fee:${fee}')\n",
        "\n"
      ],
      "metadata": {
        "id": "5ha4O3V5pwNN",
        "colab": {
          "base_uri": "https://localhost:8080/"
        },
        "outputId": "21cd38a8-62fb-4694-afa8-478b6dd1b10f"
      },
      "execution_count": 68,
      "outputs": [
        {
          "output_type": "stream",
          "name": "stdout",
          "text": [
            "Enter number of parking hours:4\n",
            "Total fee:$10.0\n"
          ]
        }
      ]
    },
    {
      "cell_type": "markdown",
      "source": [
        "## Assignment 4: Tuition (6 points)\n",
        "\n",
        "A college charges tuition according to the following:\n",
        "- 12 or more credits: $20,000/semester\n",
        "\n",
        "- 1-11 credits: $1,200 + $1,700 per credit\n",
        "\n",
        "Write a program that prompts the user for a number of credits and determines and displays the tuition for the semester. As part of your program, define and use the following function:\n",
        "```python\n",
        "def calcTuition(credits)\n",
        "```\n",
        "The function returns the tuition for a given number of credits"
      ],
      "metadata": {
        "id": "gipBObe5qm-2"
      }
    },
    {
      "cell_type": "code",
      "source": [
        "def calcTuition(credits):\n",
        "  if credits >= 12:\n",
        "    tuition== 20,000\n",
        "    return credits\n",
        "  else:\n",
        "    tuition == 1200 + 1700*credits\n",
        "    return credits\n",
        "credits = int(input(\"Please enter your number of credits\"))\n",
        "total = calTuition(credits)\n",
        "print(f\"Your tution is ${total}\")"
      ],
      "metadata": {
        "id": "BPcn9ywzrL8y"
      },
      "execution_count": null,
      "outputs": []
    },
    {
      "cell_type": "code",
      "source": [
        "def calcTuition(credits):\n",
        "  if credits >= 12:\n",
        "    print(f'Tuition= {20000}$')\n",
        "  elif credits >=1:\n",
        "    print(f'Tuition={1200+1700*credits}$')\n",
        "  else:\n",
        "    print(f'Invalid number of credits:{credits}')\n",
        "\n",
        "n_credits= int(input(\"please enter your number of credits\")\n",
        "calcTuition(n_credits)"
      ],
      "metadata": {
        "id": "FshiMvd2nEad"
      },
      "execution_count": null,
      "outputs": []
    }
  ]
}