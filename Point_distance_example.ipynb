{
  "nbformat": 4,
  "nbformat_minor": 0,
  "metadata": {
    "colab": {
      "provenance": [],
      "authorship_tag": "ABX9TyNvAUgwzTdCr/sZUAdeGGEZ",
      "include_colab_link": true
    },
    "kernelspec": {
      "name": "python3",
      "display_name": "Python 3"
    },
    "language_info": {
      "name": "python"
    }
  },
  "cells": [
    {
      "cell_type": "markdown",
      "metadata": {
        "id": "view-in-github",
        "colab_type": "text"
      },
      "source": [
        "<a href=\"https://colab.research.google.com/github/pawibanus/Paulina-Banus-Assignment-1/blob/main/Point_distance_example.ipynb\" target=\"_parent\"><img src=\"https://colab.research.google.com/assets/colab-badge.svg\" alt=\"Open In Colab\"/></a>"
      ]
    },
    {
      "cell_type": "code",
      "execution_count": null,
      "metadata": {
        "id": "BbqRc76WwYRR"
      },
      "outputs": [],
      "source": [
        "import math\n",
        "class Point:\n",
        "  def __init__(self,x, y):\n",
        "    self.x = x\n",
        "    self.y = y\n",
        "\n",
        "  def distance(self, other):\n",
        "    x_diff=(self.x-other.x)**2\n",
        "    y_diff=(self.y-other.y)**2\n",
        "    return math.sqrt(x_diff+y_diff)\n",
        "\n",
        "class Point3D(Point):\n",
        "  def __init__(self, x, y, z):\n",
        "    super().__init__(x,y)\n",
        "    self.z = z\n",
        "  def distance(self, other):\n",
        "    z_diff = (self.z-other.z)**2\n",
        "    x_diff = (self.x-other.x)**2\n",
        "    y_diff = (self.y-other.y)**2\n",
        "    return math.sqrt(x_diff+y_diff+z_diff)\n",
        "\n",
        "\n",
        "p1= Point(3,4)\n",
        "p2= Point(6,8)\n",
        "\n",
        "print(p1.distance(p2))\n",
        "p_3d1= Point3D(3,4,5)\n",
        "p_3d2= Point3D(6,8,10)\n",
        "print(p_3d1.distance(p_3d2))"
      ]
    }
  ]
}