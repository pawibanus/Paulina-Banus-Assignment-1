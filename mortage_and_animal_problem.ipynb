{
  "nbformat": 4,
  "nbformat_minor": 0,
  "metadata": {
    "colab": {
      "provenance": [],
      "authorship_tag": "ABX9TyMwmhZUM3zPbfe7MUhI2dMZ",
      "include_colab_link": true
    },
    "kernelspec": {
      "name": "python3",
      "display_name": "Python 3"
    },
    "language_info": {
      "name": "python"
    }
  },
  "cells": [
    {
      "cell_type": "markdown",
      "metadata": {
        "id": "view-in-github",
        "colab_type": "text"
      },
      "source": [
        "<a href=\"https://colab.research.google.com/github/pawibanus/Paulina-Banus-Assignment-1/blob/main/mortage_and_animal_problem.ipynb\" target=\"_parent\"><img src=\"https://colab.research.google.com/assets/colab-badge.svg\" alt=\"Open In Colab\"/></a>"
      ]
    },
    {
      "cell_type": "code",
      "execution_count": 1,
      "metadata": {
        "colab": {
          "base_uri": "https://localhost:8080/"
        },
        "id": "lt9LytFNraMX",
        "outputId": "ea2dfc4f-84f7-460b-b5c2-4007b6db8b13"
      },
      "outputs": [
        {
          "output_type": "stream",
          "name": "stdout",
          "text": [
            "Mortgage info:$\n",
            " Initial loan amount; 1000$\n",
            " Maturity term:6$\n",
            " Interest rate:0.1%\n"
          ]
        }
      ],
      "source": [
        "class Mortgage:\n",
        "  def __init__(self, amount, maturity, interest):\n",
        "    self.amount = amount\n",
        "    self.maturity = maturity\n",
        "    self.__interest= interest\n",
        "\n",
        "  def __str__(self):\n",
        "    return f'Mortgage info:$\\n Initial loan amount; {self.amount}$\\n Maturity term:{self.maturity}$\\n Interest rate:{self.__interest}%'\n",
        "\n",
        "  def get_interest(self):\n",
        "    return self.__interest\n",
        "\n",
        "  def set_interest(self,newInterest):\n",
        "    if newInterest>=0:\n",
        "      self.__interest = newInterest\n",
        "    else:\n",
        "      print('Interest must be non-negative!')\n",
        "\n",
        "  def payment(self):\n",
        "    b = self.amount\n",
        "    n= self.maturity\n",
        "    r=self.__interest\n",
        "\n",
        "    return b *(r*(1+r)**n)/((1+r)**n-1)\n",
        "\n",
        "m= Mortgage(1000,6,0.1)\n",
        "print(m)\n",
        "#classification"
      ]
    },
    {
      "cell_type": "code",
      "source": [
        "class Animal:\n",
        "  def __init__(self, legs):\n",
        "    self.legs=legs\n",
        "    print(\"animal created\")\n",
        "\n",
        "  def whoAmI(self):\n",
        "    print('I am an animal')\n",
        "\n",
        "class Bird(Animal):\n",
        "  def __init__(self, wings, legs):\n",
        "    super().__init__(legs)\n",
        "    #super... calls the constractor of the parent, we need it because we overide the constractor of the parent\n",
        "    self.wings = wings\n",
        "    print('Bird created')\n",
        "  def fly(self):\n",
        "   print('birds can fly')\n",
        "\n",
        "a= Animal(4)\n",
        "b = Bird(2,2)\n",
        "b.fly"
      ],
      "metadata": {
        "id": "wu1SX4xLrlhD"
      },
      "execution_count": null,
      "outputs": []
    }
  ]
}