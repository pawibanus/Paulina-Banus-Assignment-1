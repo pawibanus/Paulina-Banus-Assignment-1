{
  "nbformat": 4,
  "nbformat_minor": 0,
  "metadata": {
    "colab": {
      "provenance": [],
      "authorship_tag": "ABX9TyNqm0ZjoK1NtQFQUZtMFLkz",
      "include_colab_link": true
    },
    "kernelspec": {
      "name": "python3",
      "display_name": "Python 3"
    },
    "language_info": {
      "name": "python"
    }
  },
  "cells": [
    {
      "cell_type": "markdown",
      "metadata": {
        "id": "view-in-github",
        "colab_type": "text"
      },
      "source": [
        "<a href=\"https://colab.research.google.com/github/pawibanus/Paulina-Banus-Assignment-1/blob/main/Feb_21.ipynb\" target=\"_parent\"><img src=\"https://colab.research.google.com/assets/colab-badge.svg\" alt=\"Open In Colab\"/></a>"
      ]
    },
    {
      "cell_type": "code",
      "execution_count": 4,
      "metadata": {
        "colab": {
          "base_uri": "https://localhost:8080/"
        },
        "id": "qZD6SaNzNujj",
        "outputId": "1fba0ed4-5594-4d01-f913-c5f3cbe1983c"
      },
      "outputs": [
        {
          "output_type": "stream",
          "name": "stdout",
          "text": [
            "Enter Date (MM/DD/YYYY):02/21/2024\n",
            "The month is:02\n",
            "The day is:21\n",
            "The year is:2024\n"
          ]
        }
      ],
      "source": [
        "s = input(\"Enter Date (MM/DD/YYYY):\")\n",
        "month = s[:2]\n",
        "day = s[3:5]\n",
        "year = s[6:]\n",
        "print(f\"The month is:{month}\")\n",
        "print(f\"The day is:{day}\")\n",
        "print(f\"The year is:{year}\")"
      ]
    }
  ]
}