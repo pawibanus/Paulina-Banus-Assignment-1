{
  "nbformat": 4,
  "nbformat_minor": 0,
  "metadata": {
    "colab": {
      "provenance": [],
      "authorship_tag": "ABX9TyPEF5NI2uqIGnBE4GCFX5eN",
      "include_colab_link": true
    },
    "kernelspec": {
      "name": "python3",
      "display_name": "Python 3"
    },
    "language_info": {
      "name": "python"
    }
  },
  "cells": [
    {
      "cell_type": "markdown",
      "metadata": {
        "id": "view-in-github",
        "colab_type": "text"
      },
      "source": [
        "<a href=\"https://colab.research.google.com/github/pawibanus/Paulina-Banus-Assignment-1/blob/main/April_10_Paulina_Banus.ipynb\" target=\"_parent\"><img src=\"https://colab.research.google.com/assets/colab-badge.svg\" alt=\"Open In Colab\"/></a>"
      ]
    },
    {
      "cell_type": "code",
      "execution_count": 21,
      "metadata": {
        "colab": {
          "base_uri": "https://localhost:8080/"
        },
        "id": "TDmP1SlFTpbN",
        "outputId": "e85f903b-4f16-4073-eacb-f84fb5e692d3"
      },
      "outputs": [
        {
          "output_type": "stream",
          "name": "stdout",
          "text": [
            "2.5\n"
          ]
        }
      ],
      "source": [
        "def avg(alist):\n",
        "  try:\n",
        "    return sum(alist) / len(alist)\n",
        "  except ZeroDivisionError:\n",
        "    print('No values inside the list')\n",
        "    return []\n",
        "  except TypeError:\n",
        "    print(\"Please place only integers or floats inside the string\")\n",
        "    return float('nan')\n",
        "  except:\n",
        "    print('Unkown error')\n",
        "    return\n",
        "  else:\n",
        "    print('Average Calculated!')\n",
        "\n",
        "\n",
        "\n",
        "a= avg([3,1,2,4])\n",
        "print(a)\n",
        "\n"
      ]
    }
  ]
}