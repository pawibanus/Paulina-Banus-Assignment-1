{
  "nbformat": 4,
  "nbformat_minor": 0,
  "metadata": {
    "colab": {
      "provenance": [],
      "authorship_tag": "ABX9TyOKR+NZVz5WvpI21SfKw+Fj",
      "include_colab_link": true
    },
    "kernelspec": {
      "name": "python3",
      "display_name": "Python 3"
    },
    "language_info": {
      "name": "python"
    }
  },
  "cells": [
    {
      "cell_type": "markdown",
      "metadata": {
        "id": "view-in-github",
        "colab_type": "text"
      },
      "source": [
        "<a href=\"https://colab.research.google.com/github/pawibanus/Paulina-Banus-Assignment-1/blob/main/parking_problem.ipynb\" target=\"_parent\"><img src=\"https://colab.research.google.com/assets/colab-badge.svg\" alt=\"Open In Colab\"/></a>"
      ]
    },
    {
      "cell_type": "code",
      "execution_count": 1,
      "metadata": {
        "colab": {
          "base_uri": "https://localhost:8080/"
        },
        "id": "1KvASyHGtCUg",
        "outputId": "f6593a43-c775-4b61-846c-712ebb2b0803"
      },
      "outputs": [
        {
          "output_type": "stream",
          "name": "stdout",
          "text": [
            "12.5\n",
            "15.0\n",
            "17.5\n",
            "+------------------+-----------+\n",
            "| Hours of Praking | Total Fee |\n",
            "+------------------+-----------+\n",
            "|        1         |    7.5    |\n",
            "|        2         |    10.0   |\n",
            "|        3         |    12.5   |\n",
            "|        4         |    15.0   |\n",
            "|        5         |    17.5   |\n",
            "|        6         |    20.0   |\n",
            "|        7         |    22.5   |\n",
            "|        8         |    25.0   |\n",
            "+------------------+-----------+\n"
          ]
        }
      ],
      "source": [
        "from prettytable import PrettyTable\n",
        "x=5\n",
        "y=2.5\n",
        "\n",
        "for n in range (1, 9):\n",
        "  hour_rate= x+(y*n)\n",
        "parking_fees = PrettyTable([\"Hours of Praking\", \"Total Fee\"])\n",
        "for n in range (1,9):\n",
        "  hour_rate= x+(y*n)\n",
        "\n",
        "  parking_fees.add_row([n, hour_rate])\n",
        "  if hour_rate > 10 and hour_rate<20:\n",
        "    print(hour_rate)\n",
        "\n",
        "\n",
        "print(parking_fees)"
      ]
    }
  ]
}