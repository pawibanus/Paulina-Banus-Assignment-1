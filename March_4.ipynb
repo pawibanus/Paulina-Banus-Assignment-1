{
  "nbformat": 4,
  "nbformat_minor": 0,
  "metadata": {
    "colab": {
      "provenance": [],
      "authorship_tag": "ABX9TyO9dlTAe39O3oqfxS/+syCg",
      "include_colab_link": true
    },
    "kernelspec": {
      "name": "python3",
      "display_name": "Python 3"
    },
    "language_info": {
      "name": "python"
    }
  },
  "cells": [
    {
      "cell_type": "markdown",
      "metadata": {
        "id": "view-in-github",
        "colab_type": "text"
      },
      "source": [
        "<a href=\"https://colab.research.google.com/github/pawibanus/Paulina-Banus-Assignment-1/blob/main/March_4.ipynb\" target=\"_parent\"><img src=\"https://colab.research.google.com/assets/colab-badge.svg\" alt=\"Open In Colab\"/></a>"
      ]
    },
    {
      "cell_type": "code",
      "execution_count": 17,
      "metadata": {
        "colab": {
          "base_uri": "https://localhost:8080/"
        },
        "id": "oNGH01MCCUaP",
        "outputId": "f42b6fb4-ff1f-406d-865d-11861327908a"
      },
      "outputs": [
        {
          "output_type": "stream",
          "name": "stdout",
          "text": [
            "{1: 'Jan', 2: 'Feb', 3: 'March', 4: 'April', 5: 'May', 6: 'June', 7: 'July', 8: 'August', 9: 'Sept', 10: 'oct', 11: 'Nov', 12: 'Dec'}\n"
          ]
        }
      ],
      "source": [
        "months={}\n",
        "numbers=[1,2,3,4,5,6,7,8,9,10,11,12]\n",
        "names =['Jan', 'Feb', 'March', 'April', 'May', 'June', 'July', 'August','Sept','oct','Nov','Dec']\n",
        "for number in numbers:\n",
        "  months[number]=names[number-1]\n",
        "print(months)\n",
        "\n"
      ]
    },
    {
      "cell_type": "code",
      "source": [],
      "metadata": {
        "id": "ZjpbZfdnCZHF"
      },
      "execution_count": null,
      "outputs": []
    }
  ]
}